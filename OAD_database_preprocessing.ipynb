{
 "cells": [
  {
   "cell_type": "code",
   "execution_count": 1,
   "metadata": {},
   "outputs": [],
   "source": [
    "from scipy.io import loadmat\n",
    "\n",
    "import pandas as pd\n",
    "\n",
    "import numpy as np\n",
    "\n",
    "from os import listdir\n",
    "from os.path import isfile, join\n",
    "\n",
    "import torch\n",
    "import torch.utils.data as data_utils\n",
    "\n",
    "import re"
   ]
  },
  {
   "cell_type": "code",
   "execution_count": 2,
   "metadata": {},
   "outputs": [],
   "source": [
    "datafilepath0 = 'C:\\\\Users\\\\cyril\\\\Bureau\\\\unsup_seg\\\\OAD\\\\skeleton0'\n",
    "datafilepath1 = 'C:\\\\Users\\\\cyril\\\\Bureau\\\\unsup_seg\\\\OAD\\\\skeleton1'\n",
    "datafilepath2 = 'C:\\\\Users\\\\cyril\\\\Bureau\\\\unsup_seg\\\\OAD\\\\skeleton2'\n",
    "datafilepath3 = 'C:\\\\Users\\\\cyril\\\\Bureau\\\\unsup_seg\\\\OAD\\\\skeleton3'\n",
    "datafilepath4 = 'C:\\\\Users\\\\cyril\\\\Bureau\\\\unsup_seg\\\\OAD\\\\skeleton4'\n",
    "datafilepath5 = 'C:\\\\Users\\\\cyril\\\\Bureau\\\\unsup_seg\\\\OAD\\\\skeleton5'\n",
    "datafilepath6 = 'C:\\\\Users\\\\cyril\\\\Bureau\\\\unsup_seg\\\\OAD\\\\skeleton6'\n",
    "datafilepath7 = 'C:\\\\Users\\\\cyril\\\\Bureau\\\\unsup_seg\\\\OAD\\\\skeleton7'\n",
    "datafilepath8 = 'C:\\\\Users\\\\cyril\\\\Bureau\\\\unsup_seg\\\\OAD\\\\skeleton8'\n",
    "datafilepath9 = 'C:\\\\Users\\\\cyril\\\\Bureau\\\\unsup_seg\\\\OAD\\\\skeleton9'\n",
    "datafilepath10 = 'C:\\\\Users\\\\cyril\\\\Bureau\\\\unsup_seg\\\\OAD\\\\skeleton10'\n",
    "datafilepath11 = 'C:\\\\Users\\\\cyril\\\\Bureau\\\\unsup_seg\\\\OAD\\\\skeleton11'\n",
    "datafilepath12 = 'C:\\\\Users\\\\cyril\\\\Bureau\\\\unsup_seg\\\\OAD\\\\skeleton12'\n",
    "datafilepath13 = 'C:\\\\Users\\\\cyril\\\\Bureau\\\\unsup_seg\\\\OAD\\\\skeleton13'\n",
    "datafilepath14 = 'C:\\\\Users\\\\cyril\\\\Bureau\\\\unsup_seg\\\\OAD\\\\skeleton14'\n",
    "datafilepath15 = 'C:\\\\Users\\\\cyril\\\\Bureau\\\\unsup_seg\\\\OAD\\\\skeleton15'\n",
    "datafilepath16 = 'C:\\\\Users\\\\cyril\\\\Bureau\\\\unsup_seg\\\\OAD\\\\skeleton16'\n",
    "datafilepath17 = 'C:\\\\Users\\\\cyril\\\\Bureau\\\\unsup_seg\\\\OAD\\\\skeleton17'\n",
    "datafilepath18 = 'C:\\\\Users\\\\cyril\\\\Bureau\\\\unsup_seg\\\\OAD\\\\skeleton18'\n",
    "datafilepath19 = 'C:\\\\Users\\\\cyril\\\\Bureau\\\\unsup_seg\\\\OAD\\\\skeleton19'\n",
    "datafilepath20 = 'C:\\\\Users\\\\cyril\\\\Bureau\\\\unsup_seg\\\\OAD\\\\skeleton20'\n",
    "datafilepath21 = 'C:\\\\Users\\\\cyril\\\\Bureau\\\\unsup_seg\\\\OAD\\\\skeleton21'\n",
    "datafilepath22 = 'C:\\\\Users\\\\cyril\\\\Bureau\\\\unsup_seg\\\\OAD\\\\skeleton22'\n",
    "datafilepath23 = 'C:\\\\Users\\\\cyril\\\\Bureau\\\\unsup_seg\\\\OAD\\\\skeleton23'\n",
    "datafilepath24 = 'C:\\\\Users\\\\cyril\\\\Bureau\\\\unsup_seg\\\\OAD\\\\skeleton24'\n",
    "datafilepath25 = 'C:\\\\Users\\\\cyril\\\\Bureau\\\\unsup_seg\\\\OAD\\\\skeleton25'\n",
    "datafilepath26 = 'C:\\\\Users\\\\cyril\\\\Bureau\\\\unsup_seg\\\\OAD\\\\skeleton26'\n",
    "datafilepath27 = 'C:\\\\Users\\\\cyril\\\\Bureau\\\\unsup_seg\\\\OAD\\\\skeleton27'\n",
    "datafilepath28 = 'C:\\\\Users\\\\cyril\\\\Bureau\\\\unsup_seg\\\\OAD\\\\skeleton28'\n",
    "datafilepath29 = 'C:\\\\Users\\\\cyril\\\\Bureau\\\\unsup_seg\\\\OAD\\\\skeleton29'\n",
    "datafilepath30 = 'C:\\\\Users\\\\cyril\\\\Bureau\\\\unsup_seg\\\\OAD\\\\skeleton30'\n",
    "datafilepath31 = 'C:\\\\Users\\\\cyril\\\\Bureau\\\\unsup_seg\\\\OAD\\\\skeleton31'\n",
    "datafilepath32 = 'C:\\\\Users\\\\cyril\\\\Bureau\\\\unsup_seg\\\\OAD\\\\skeleton32'\n",
    "datafilepath33 = 'C:\\\\Users\\\\cyril\\\\Bureau\\\\unsup_seg\\\\OAD\\\\skeleton33'\n",
    "datafilepath34 = 'C:\\\\Users\\\\cyril\\\\Bureau\\\\unsup_seg\\\\OAD\\\\skeleton34'\n",
    "datafilepath35 = 'C:\\\\Users\\\\cyril\\\\Bureau\\\\unsup_seg\\\\OAD\\\\skeleton35'\n",
    "datafilepath36 = 'C:\\\\Users\\\\cyril\\\\Bureau\\\\unsup_seg\\\\OAD\\\\skeleton36'\n",
    "datafilepath37 = 'C:\\\\Users\\\\cyril\\\\Bureau\\\\unsup_seg\\\\OAD\\\\skeleton37'\n",
    "datafilepath38 = 'C:\\\\Users\\\\cyril\\\\Bureau\\\\unsup_seg\\\\OAD\\\\skeleton38'\n",
    "datafilepath39 = 'C:\\\\Users\\\\cyril\\\\Bureau\\\\unsup_seg\\\\OAD\\\\skeleton39'\n",
    "datafilepath40 = 'C:\\\\Users\\\\cyril\\\\Bureau\\\\unsup_seg\\\\OAD\\\\skeleton40'\n",
    "datafilepath41 = 'C:\\\\Users\\\\cyril\\\\Bureau\\\\unsup_seg\\\\OAD\\\\skeleton41'\n",
    "datafilepath42 = 'C:\\\\Users\\\\cyril\\\\Bureau\\\\unsup_seg\\\\OAD\\\\skeleton42'\n",
    "datafilepath43 = 'C:\\\\Users\\\\cyril\\\\Bureau\\\\unsup_seg\\\\OAD\\\\skeleton43'\n",
    "datafilepath44 = 'C:\\\\Users\\\\cyril\\\\Bureau\\\\unsup_seg\\\\OAD\\\\skeleton44'\n",
    "datafilepath45 = 'C:\\\\Users\\\\cyril\\\\Bureau\\\\unsup_seg\\\\OAD\\\\skeleton45'\n",
    "datafilepath46 = 'C:\\\\Users\\\\cyril\\\\Bureau\\\\unsup_seg\\\\OAD\\\\skeleton46'\n",
    "datafilepath47 = 'C:\\\\Users\\\\cyril\\\\Bureau\\\\unsup_seg\\\\OAD\\\\skeleton47'\n",
    "datafilepath48 = 'C:\\\\Users\\\\cyril\\\\Bureau\\\\unsup_seg\\\\OAD\\\\skeleton48'\n",
    "datafilepath49 = 'C:\\\\Users\\\\cyril\\\\Bureau\\\\unsup_seg\\\\OAD\\\\skeleton49'\n",
    "datafilepath50 = 'C:\\\\Users\\\\cyril\\\\Bureau\\\\unsup_seg\\\\OAD\\\\skeleton50'\n",
    "datafilepath51 = 'C:\\\\Users\\\\cyril\\\\Bureau\\\\unsup_seg\\\\OAD\\\\skeleton51'\n",
    "datafilepath52 = 'C:\\\\Users\\\\cyril\\\\Bureau\\\\unsup_seg\\\\OAD\\\\skeleton52'\n",
    "datafilepath53 = 'C:\\\\Users\\\\cyril\\\\Bureau\\\\unsup_seg\\\\OAD\\\\skeleton53'\n",
    "datafilepath54 = 'C:\\\\Users\\\\cyril\\\\Bureau\\\\unsup_seg\\\\OAD\\\\skeleton54'\n",
    "datafilepath55 = 'C:\\\\Users\\\\cyril\\\\Bureau\\\\unsup_seg\\\\OAD\\\\skeleton55'\n",
    "datafilepath56 = 'C:\\\\Users\\\\cyril\\\\Bureau\\\\unsup_seg\\\\OAD\\\\skeleton56'\n",
    "datafilepath57 = 'C:\\\\Users\\\\cyril\\\\Bureau\\\\unsup_seg\\\\OAD\\\\skeleton57'\n",
    "datafilepath58 = 'C:\\\\Users\\\\cyril\\\\Bureau\\\\unsup_seg\\\\OAD\\\\skeleton58'"
   ]
  },
  {
   "cell_type": "code",
   "execution_count": 3,
   "metadata": {},
   "outputs": [],
   "source": [
    "datafilepaths = []\n",
    "\n",
    "datafilepaths.append(datafilepath0)\n",
    "datafilepaths.append(datafilepath1)\n",
    "datafilepaths.append(datafilepath2)\n",
    "datafilepaths.append(datafilepath3)\n",
    "datafilepaths.append(datafilepath4)\n",
    "datafilepaths.append(datafilepath5)\n",
    "datafilepaths.append(datafilepath6)\n",
    "datafilepaths.append(datafilepath7)\n",
    "datafilepaths.append(datafilepath8)\n",
    "datafilepaths.append(datafilepath9)\n",
    "datafilepaths.append(datafilepath10)\n",
    "datafilepaths.append(datafilepath11)\n",
    "datafilepaths.append(datafilepath12)\n",
    "datafilepaths.append(datafilepath13)\n",
    "datafilepaths.append(datafilepath14)\n",
    "datafilepaths.append(datafilepath15)\n",
    "datafilepaths.append(datafilepath16)\n",
    "datafilepaths.append(datafilepath17)\n",
    "datafilepaths.append(datafilepath18)\n",
    "datafilepaths.append(datafilepath19)\n",
    "datafilepaths.append(datafilepath20)\n",
    "datafilepaths.append(datafilepath21)\n",
    "datafilepaths.append(datafilepath22)\n",
    "datafilepaths.append(datafilepath23)\n",
    "datafilepaths.append(datafilepath24)\n",
    "datafilepaths.append(datafilepath25)\n",
    "datafilepaths.append(datafilepath26)\n",
    "datafilepaths.append(datafilepath27)\n",
    "datafilepaths.append(datafilepath28)\n",
    "datafilepaths.append(datafilepath29)\n",
    "datafilepaths.append(datafilepath30)\n",
    "datafilepaths.append(datafilepath31)\n",
    "datafilepaths.append(datafilepath32)\n",
    "datafilepaths.append(datafilepath33)\n",
    "datafilepaths.append(datafilepath34)\n",
    "datafilepaths.append(datafilepath35)\n",
    "datafilepaths.append(datafilepath36)\n",
    "datafilepaths.append(datafilepath37)\n",
    "datafilepaths.append(datafilepath38)\n",
    "datafilepaths.append(datafilepath39)\n",
    "datafilepaths.append(datafilepath40)\n",
    "datafilepaths.append(datafilepath41)\n",
    "datafilepaths.append(datafilepath42)\n",
    "datafilepaths.append(datafilepath43)\n",
    "datafilepaths.append(datafilepath44)\n",
    "datafilepaths.append(datafilepath45)\n",
    "datafilepaths.append(datafilepath46)\n",
    "datafilepaths.append(datafilepath47)\n",
    "datafilepaths.append(datafilepath48)\n",
    "datafilepaths.append(datafilepath49)\n",
    "datafilepaths.append(datafilepath50)\n",
    "datafilepaths.append(datafilepath51)\n",
    "datafilepaths.append(datafilepath52)\n",
    "datafilepaths.append(datafilepath53)\n",
    "datafilepaths.append(datafilepath54)\n",
    "datafilepaths.append(datafilepath55)\n",
    "datafilepaths.append(datafilepath56)\n",
    "datafilepaths.append(datafilepath57)\n",
    "datafilepaths.append(datafilepath58)"
   ]
  },
  {
   "cell_type": "code",
   "execution_count": 4,
   "metadata": {},
   "outputs": [],
   "source": [
    "labfilepath0 = 'C:\\\\Users\\\\cyril\\\\Bureau\\\\unsup_seg\\\\OAD\\\\label0'\n",
    "labfilepath1 = 'C:\\\\Users\\\\cyril\\\\Bureau\\\\unsup_seg\\\\OAD\\\\label1'\n",
    "labfilepath2 = 'C:\\\\Users\\\\cyril\\\\Bureau\\\\unsup_seg\\\\OAD\\\\label2'\n",
    "labfilepath3 = 'C:\\\\Users\\\\cyril\\\\Bureau\\\\unsup_seg\\\\OAD\\\\label3'\n",
    "labfilepath4 = 'C:\\\\Users\\\\cyril\\\\Bureau\\\\unsup_seg\\\\OAD\\\\label4'\n",
    "labfilepath5 = 'C:\\\\Users\\\\cyril\\\\Bureau\\\\unsup_seg\\\\OAD\\\\label5'\n",
    "labfilepath6 = 'C:\\\\Users\\\\cyril\\\\Bureau\\\\unsup_seg\\\\OAD\\\\label6'\n",
    "labfilepath7 = 'C:\\\\Users\\\\cyril\\\\Bureau\\\\unsup_seg\\\\OAD\\\\label7'\n",
    "labfilepath8 = 'C:\\\\Users\\\\cyril\\\\Bureau\\\\unsup_seg\\\\OAD\\\\label8'\n",
    "labfilepath9 = 'C:\\\\Users\\\\cyril\\\\Bureau\\\\unsup_seg\\\\OAD\\\\label9'\n",
    "labfilepath10 = 'C:\\\\Users\\\\cyril\\\\Bureau\\\\unsup_seg\\\\OAD\\\\label10'\n",
    "labfilepath11 = 'C:\\\\Users\\\\cyril\\\\Bureau\\\\unsup_seg\\\\OAD\\\\label11'\n",
    "labfilepath12 = 'C:\\\\Users\\\\cyril\\\\Bureau\\\\unsup_seg\\\\OAD\\\\label12'\n",
    "labfilepath13 = 'C:\\\\Users\\\\cyril\\\\Bureau\\\\unsup_seg\\\\OAD\\\\label13'\n",
    "labfilepath14 = 'C:\\\\Users\\\\cyril\\\\Bureau\\\\unsup_seg\\\\OAD\\\\label14'\n",
    "labfilepath15 = 'C:\\\\Users\\\\cyril\\\\Bureau\\\\unsup_seg\\\\OAD\\\\label15'\n",
    "labfilepath16 = 'C:\\\\Users\\\\cyril\\\\Bureau\\\\unsup_seg\\\\OAD\\\\label16'\n",
    "labfilepath17 = 'C:\\\\Users\\\\cyril\\\\Bureau\\\\unsup_seg\\\\OAD\\\\label17'\n",
    "labfilepath18 = 'C:\\\\Users\\\\cyril\\\\Bureau\\\\unsup_seg\\\\OAD\\\\label18'\n",
    "labfilepath19 = 'C:\\\\Users\\\\cyril\\\\Bureau\\\\unsup_seg\\\\OAD\\\\label19'\n",
    "labfilepath20 = 'C:\\\\Users\\\\cyril\\\\Bureau\\\\unsup_seg\\\\OAD\\\\label20'\n",
    "labfilepath21 = 'C:\\\\Users\\\\cyril\\\\Bureau\\\\unsup_seg\\\\OAD\\\\label21'\n",
    "labfilepath22 = 'C:\\\\Users\\\\cyril\\\\Bureau\\\\unsup_seg\\\\OAD\\\\label22'\n",
    "labfilepath23 = 'C:\\\\Users\\\\cyril\\\\Bureau\\\\unsup_seg\\\\OAD\\\\label23'\n",
    "labfilepath24 = 'C:\\\\Users\\\\cyril\\\\Bureau\\\\unsup_seg\\\\OAD\\\\label24'\n",
    "labfilepath25 = 'C:\\\\Users\\\\cyril\\\\Bureau\\\\unsup_seg\\\\OAD\\\\label25'\n",
    "labfilepath26 = 'C:\\\\Users\\\\cyril\\\\Bureau\\\\unsup_seg\\\\OAD\\\\label26'\n",
    "labfilepath27 = 'C:\\\\Users\\\\cyril\\\\Bureau\\\\unsup_seg\\\\OAD\\\\label27'\n",
    "labfilepath28 = 'C:\\\\Users\\\\cyril\\\\Bureau\\\\unsup_seg\\\\OAD\\\\label28'\n",
    "labfilepath29 = 'C:\\\\Users\\\\cyril\\\\Bureau\\\\unsup_seg\\\\OAD\\\\label29'\n",
    "labfilepath30 = 'C:\\\\Users\\\\cyril\\\\Bureau\\\\unsup_seg\\\\OAD\\\\label30'\n",
    "labfilepath31 = 'C:\\\\Users\\\\cyril\\\\Bureau\\\\unsup_seg\\\\OAD\\\\label31'\n",
    "labfilepath32 = 'C:\\\\Users\\\\cyril\\\\Bureau\\\\unsup_seg\\\\OAD\\\\label32'\n",
    "labfilepath33 = 'C:\\\\Users\\\\cyril\\\\Bureau\\\\unsup_seg\\\\OAD\\\\label33'\n",
    "labfilepath34 = 'C:\\\\Users\\\\cyril\\\\Bureau\\\\unsup_seg\\\\OAD\\\\label34'\n",
    "labfilepath35 = 'C:\\\\Users\\\\cyril\\\\Bureau\\\\unsup_seg\\\\OAD\\\\label35'\n",
    "labfilepath36 = 'C:\\\\Users\\\\cyril\\\\Bureau\\\\unsup_seg\\\\OAD\\\\label36'\n",
    "labfilepath37 = 'C:\\\\Users\\\\cyril\\\\Bureau\\\\unsup_seg\\\\OAD\\\\label37'\n",
    "labfilepath38 = 'C:\\\\Users\\\\cyril\\\\Bureau\\\\unsup_seg\\\\OAD\\\\label38'\n",
    "labfilepath39 = 'C:\\\\Users\\\\cyril\\\\Bureau\\\\unsup_seg\\\\OAD\\\\label39'\n",
    "labfilepath40 = 'C:\\\\Users\\\\cyril\\\\Bureau\\\\unsup_seg\\\\OAD\\\\label40'\n",
    "labfilepath41 = 'C:\\\\Users\\\\cyril\\\\Bureau\\\\unsup_seg\\\\OAD\\\\label41'\n",
    "labfilepath42 = 'C:\\\\Users\\\\cyril\\\\Bureau\\\\unsup_seg\\\\OAD\\\\label42'\n",
    "labfilepath43 = 'C:\\\\Users\\\\cyril\\\\Bureau\\\\unsup_seg\\\\OAD\\\\label43'\n",
    "labfilepath44 = 'C:\\\\Users\\\\cyril\\\\Bureau\\\\unsup_seg\\\\OAD\\\\label44'\n",
    "labfilepath45 = 'C:\\\\Users\\\\cyril\\\\Bureau\\\\unsup_seg\\\\OAD\\\\label45'\n",
    "labfilepath46 = 'C:\\\\Users\\\\cyril\\\\Bureau\\\\unsup_seg\\\\OAD\\\\label46'\n",
    "labfilepath47 = 'C:\\\\Users\\\\cyril\\\\Bureau\\\\unsup_seg\\\\OAD\\\\label47'\n",
    "labfilepath48 = 'C:\\\\Users\\\\cyril\\\\Bureau\\\\unsup_seg\\\\OAD\\\\label48'\n",
    "labfilepath49 = 'C:\\\\Users\\\\cyril\\\\Bureau\\\\unsup_seg\\\\OAD\\\\label49'\n",
    "labfilepath50 = 'C:\\\\Users\\\\cyril\\\\Bureau\\\\unsup_seg\\\\OAD\\\\label50'\n",
    "labfilepath51 = 'C:\\\\Users\\\\cyril\\\\Bureau\\\\unsup_seg\\\\OAD\\\\label51'\n",
    "labfilepath52 = 'C:\\\\Users\\\\cyril\\\\Bureau\\\\unsup_seg\\\\OAD\\\\label52'\n",
    "labfilepath53 = 'C:\\\\Users\\\\cyril\\\\Bureau\\\\unsup_seg\\\\OAD\\\\label53'\n",
    "labfilepath54 = 'C:\\\\Users\\\\cyril\\\\Bureau\\\\unsup_seg\\\\OAD\\\\label54'\n",
    "labfilepath55 = 'C:\\\\Users\\\\cyril\\\\Bureau\\\\unsup_seg\\\\OAD\\\\label55'\n",
    "labfilepath56 = 'C:\\\\Users\\\\cyril\\\\Bureau\\\\unsup_seg\\\\OAD\\\\label56'\n",
    "labfilepath57 = 'C:\\\\Users\\\\cyril\\\\Bureau\\\\unsup_seg\\\\OAD\\\\label57'\n",
    "labfilepath58 = 'C:\\\\Users\\\\cyril\\\\Bureau\\\\unsup_seg\\\\OAD\\\\label58'"
   ]
  },
  {
   "cell_type": "code",
   "execution_count": 5,
   "metadata": {},
   "outputs": [],
   "source": [
    "labfilepaths = []\n",
    "\n",
    "labfilepaths.append(labfilepath0)\n",
    "labfilepaths.append(labfilepath1)\n",
    "labfilepaths.append(labfilepath2)\n",
    "labfilepaths.append(labfilepath3)\n",
    "labfilepaths.append(labfilepath4)\n",
    "labfilepaths.append(labfilepath5)\n",
    "labfilepaths.append(labfilepath6)\n",
    "labfilepaths.append(labfilepath7)\n",
    "labfilepaths.append(labfilepath8)\n",
    "labfilepaths.append(labfilepath9)\n",
    "labfilepaths.append(labfilepath10)\n",
    "labfilepaths.append(labfilepath11)\n",
    "labfilepaths.append(labfilepath12)\n",
    "labfilepaths.append(labfilepath13)\n",
    "labfilepaths.append(labfilepath14)\n",
    "labfilepaths.append(labfilepath15)\n",
    "labfilepaths.append(labfilepath16)\n",
    "labfilepaths.append(labfilepath17)\n",
    "labfilepaths.append(labfilepath18)\n",
    "labfilepaths.append(labfilepath19)\n",
    "labfilepaths.append(labfilepath20)\n",
    "labfilepaths.append(labfilepath21)\n",
    "labfilepaths.append(labfilepath22)\n",
    "labfilepaths.append(labfilepath23)\n",
    "labfilepaths.append(labfilepath24)\n",
    "labfilepaths.append(labfilepath25)\n",
    "labfilepaths.append(labfilepath26)\n",
    "labfilepaths.append(labfilepath27)\n",
    "labfilepaths.append(labfilepath28)\n",
    "labfilepaths.append(labfilepath29)\n",
    "labfilepaths.append(labfilepath30)\n",
    "labfilepaths.append(labfilepath31)\n",
    "labfilepaths.append(labfilepath32)\n",
    "labfilepaths.append(labfilepath33)\n",
    "labfilepaths.append(labfilepath34)\n",
    "labfilepaths.append(labfilepath35)\n",
    "labfilepaths.append(labfilepath36)\n",
    "labfilepaths.append(labfilepath37)\n",
    "labfilepaths.append(labfilepath38)\n",
    "labfilepaths.append(labfilepath39)\n",
    "labfilepaths.append(labfilepath40)\n",
    "labfilepaths.append(labfilepath41)\n",
    "labfilepaths.append(labfilepath42)\n",
    "labfilepaths.append(labfilepath43)\n",
    "labfilepaths.append(labfilepath44)\n",
    "labfilepaths.append(labfilepath45)\n",
    "labfilepaths.append(labfilepath46)\n",
    "labfilepaths.append(labfilepath47)\n",
    "labfilepaths.append(labfilepath48)\n",
    "labfilepaths.append(labfilepath49)\n",
    "labfilepaths.append(labfilepath50)\n",
    "labfilepaths.append(labfilepath51)\n",
    "labfilepaths.append(labfilepath52)\n",
    "labfilepaths.append(labfilepath53)\n",
    "labfilepaths.append(labfilepath54)\n",
    "labfilepaths.append(labfilepath55)\n",
    "labfilepaths.append(labfilepath56)\n",
    "labfilepaths.append(labfilepath57)\n",
    "labfilepaths.append(labfilepath58)"
   ]
  },
  {
   "cell_type": "code",
   "execution_count": 6,
   "metadata": {},
   "outputs": [],
   "source": [
    "datafilenames = []\n",
    "for i in datafilepaths:\n",
    "    datfilnames = [f for f in listdir(i) if isfile(join(i, f))]\n",
    "    datafilenames.append(datfilnames)  "
   ]
  },
  {
   "cell_type": "code",
   "execution_count": 7,
   "metadata": {},
   "outputs": [
    {
     "name": "stdout",
     "output_type": "stream",
     "text": [
      "['-0.085463', '-0.114889', '1.974722', '-0.077504', '0.198881', '1.862040', '-0.070824', '0.502088', '1.735037', '-0.145083', '0.617243', '1.699000', '-0.173855', '0.400961', '1.886856', '-0.220717', '0.175890', '2.012592', '-0.241194', '-0.042470', '2.057991', '-0.257126', '-0.112581', '2.068674', '0.045132', '0.364064', '1.708736', '0.142668', '0.129373', '1.709630', '0.071413', '-0.086654', '1.706776', '0.008619', '-0.151743', '1.735658', '-0.146740', '-0.100453', '1.975751', '-0.216283', '-0.465822', '2.051343', '-0.256061', '-0.856873', '2.179252', '-0.319325', '-0.920576', '2.142556', '-0.022597', '-0.125688', '1.901552', '0.082598', '-0.476662', '2.004346', '0.097781', '-0.880049', '2.132843', '0.115373', '-0.946744', '2.071239', '-0.072501', '0.428017', '1.769105', '-0.263592', '-0.177237', '2.073194', '-0.270153', '-0.097403', '2.061143', '-0.040492', '-0.229320', '1.744461', '0.070892', '-0.144356', '1.783613']\n"
     ]
    }
   ],
   "source": [
    "n = join(datafilepaths[0],datafilenames[0][0])\n",
    "f = open(n, \"r\")\n",
    "pointtxt = f.read()\n",
    "x = pointtxt.split()\n",
    "print(x)"
   ]
  },
  {
   "cell_type": "code",
   "execution_count": 8,
   "metadata": {
    "scrolled": true
   },
   "outputs": [],
   "source": [
    "datalist = []\n",
    "deltalist = []\n",
    "\n",
    "\n",
    "for i in range(len(datafilepaths)):\n",
    "    firstframe = True\n",
    "    datanaord = []\n",
    "    for x in datafilenames[i]:\n",
    "        y = x.replace('.txt','')\n",
    "        datanaord.append(int(y))\n",
    "    datanaord.sort()\n",
    "    trudatafilenames = []\n",
    "    for x in datanaord:\n",
    "        y = str(x)\n",
    "        trudatafilenames.append(y + \".txt\")\n",
    "    seqitlist = []\n",
    "    for x in trudatafilenames:\n",
    "        n = join(datafilepaths[i],x)\n",
    "        f = open(n, \"r\")\n",
    "        pointtxt = f.read()\n",
    "        spl = pointtxt.split()\n",
    "        if len(spl) != 0:\n",
    "            if firstframe:\n",
    "                firstframe = False\n",
    "                y = x.replace('.txt','')\n",
    "                deltalist.append(int(y))\n",
    "            datspl = []\n",
    "            for d in spl:\n",
    "                datspl.append(float(d))\n",
    "            datait = np.asarray(datspl)\n",
    "            spine_base = datait[0:3]\n",
    "            spine_mid = datait[3:6]\n",
    "            neck = datait[6:9]\n",
    "            head = datait[9:12]\n",
    "            shoulder_left = datait[12:15]\n",
    "            elbow_left = datait[15:18]\n",
    "            wrist_left = datait[18:21]\n",
    "            hand_left = datait[21:24]\n",
    "            shoulder_right = datait[24:27]\n",
    "            elbow_right = datait[27:30]\n",
    "            wrist_right = datait[30:33]\n",
    "            hand_right = datait[33:36]\n",
    "            hip_left = datait[36:39]\n",
    "            knee_left = datait[39:42]\n",
    "            ankle_left = datait[42:45]\n",
    "            foot_left = datait[45:48]\n",
    "            hip_right = datait[48:51]\n",
    "            knee_right = datait[51:54]\n",
    "            ankle_right = datait[54:57]\n",
    "            foot_right = datait[57:60]\n",
    "            spine_shoulder = datait[60:63]\n",
    "            handtip_left = datait[63:66]\n",
    "            thumb_left = datait[66:69]\n",
    "            handtip_right = datait[69:72]\n",
    "            thumb_right = datait[72:75]\n",
    "            seqitlist.append(np.stack((head,neck,spine_shoulder,shoulder_left,shoulder_right,elbow_left,elbow_right,wrist_left,wrist_right,thumb_left,thumb_right,hand_left,hand_right,handtip_left,handtip_right,spine_mid,spine_base,hip_left,hip_right,knee_left,knee_right,ankle_left,ankle_right,foot_left,foot_right)))\n",
    "    seqit = np.asarray(seqitlist)\n",
    "    datalist.append(seqit)"
   ]
  },
  {
   "cell_type": "code",
   "execution_count": 9,
   "metadata": {},
   "outputs": [],
   "source": [
    "labset = []\n",
    "\n",
    "for x in labfilepaths:\n",
    "    labit = []\n",
    "    n = join(x,\"label.txt\")\n",
    "    f = open(n, \"r\")\n",
    "    pointtxt = f.read()\n",
    "    labline = pointtxt.split('\\n')\n",
    "    for i in labline:\n",
    "        if re.match(r\"\\d\",i):\n",
    "            nums = i.split()\n",
    "            labit.append((int(nums[0]),int(nums[1])))\n",
    "        else:\n",
    "            if i == \"drinking\":\n",
    "                labit.append(1)\n",
    "            elif i == \"eating\":\n",
    "                labit.append(2)\n",
    "            elif i == \"writing\":\n",
    "                labit.append(3)\n",
    "            elif i == \"opening cupboard\":\n",
    "                labit.append(4)\n",
    "            elif i == \"washing hands\":\n",
    "                labit.append(5)\n",
    "            elif i == \"opening microwave oven\":\n",
    "                labit.append(6)\n",
    "            elif i == \"sweeping\":\n",
    "                labit.append(7)\n",
    "            elif i == \"gargling\":\n",
    "                labit.append(8)\n",
    "            elif i == \"Throwing trash\":\n",
    "                labit.append(9)\n",
    "            elif i == \"wiping\":\n",
    "                labit.append(10)\n",
    "    labset.append(labit)"
   ]
  },
  {
   "cell_type": "code",
   "execution_count": 10,
   "metadata": {},
   "outputs": [
    {
     "name": "stdout",
     "output_type": "stream",
     "text": [
      "59\n",
      "59\n",
      "(1835, 25, 3)\n",
      "[1, (120, 130), (1847, 1853), 2, (207, 220), 3, (306, 350), 4, (400, 435), 6, (730, 751), 5, (800, 830), 7, (1230, 1295), 8, (1580, 1596), 9, (1137, 1160), (1775, 1786), 10, (1725, 1747)]\n",
      "\n",
      "\n",
      "[52, 69, 62, 48, 68, 98, 55, 49, 81, 75, 79, 52, 131, 19, 50, 89, 80, 52, 158, 56, 48, 68, 83, 68, 133, 65, 53, 59, 77, 84, 76, 111, 50, 53, 47, 87, 60, 50, 78, 52, 47, 55, 49, 50, 122, 229, 108, 120, 97, 192, 106, 85, 51, 59, 85, 14, 52, 32, 50]\n"
     ]
    }
   ],
   "source": [
    "print(len(datalist))\n",
    "print(len(labset))\n",
    "print(datalist[0].shape)\n",
    "print(labset[0])\n",
    "print(\"\\n\")\n",
    "print(deltalist)"
   ]
  },
  {
   "cell_type": "code",
   "execution_count": 11,
   "metadata": {},
   "outputs": [],
   "source": [
    "i = 0\n",
    "labels = []\n",
    "for n in labset:\n",
    "    delt = deltalist[i]\n",
    "    lab = np.zeros(datalist[i].shape[0])\n",
    "    for x in n:\n",
    "        if type(x) == int:\n",
    "            labe = x\n",
    "        else:\n",
    "            lab[x[0]-delt:x[1]-delt] = labe\n",
    "    labels.append(lab)\n",
    "    i = i+1"
   ]
  },
  {
   "cell_type": "code",
   "execution_count": 12,
   "metadata": {},
   "outputs": [
    {
     "name": "stdout",
     "output_type": "stream",
     "text": [
      "0.8656336\n",
      "-0.953962\n"
     ]
    }
   ],
   "source": [
    "ma = 0\n",
    "mi = 0\n",
    "for i in range(48):\n",
    "    if np.amax(datalist[i]) > ma:\n",
    "        ma = np.amax(datalist[i])\n",
    "    if np.amin(datalist[i]) < mi:\n",
    "        mi = np.amin(datalist[i])\n",
    "print((ma-1)/2.5)\n",
    "print((mi-1)/2.5)"
   ]
  },
  {
   "cell_type": "code",
   "execution_count": 13,
   "metadata": {
    "scrolled": true
   },
   "outputs": [
    {
     "name": "stdout",
     "output_type": "stream",
     "text": [
      "(1835, 25, 3)\n",
      "(1221, 25, 3)\n",
      "(1271, 25, 3)\n",
      "(1283, 25, 3)\n",
      "(1280, 25, 3)\n",
      "(3105, 25, 3)\n",
      "(3239, 25, 3)\n",
      "(1436, 25, 3)\n",
      "(1192, 25, 3)\n",
      "(1319, 25, 3)\n",
      "(2558, 25, 3)\n",
      "(2542, 25, 3)\n",
      "(3029, 25, 3)\n",
      "(2044, 25, 3)\n",
      "(1150, 25, 3)\n",
      "(994, 25, 3)\n",
      "(1098, 25, 3)\n",
      "(2006, 25, 3)\n",
      "(1005, 25, 3)\n",
      "(1035, 25, 3)\n",
      "(1013, 25, 3)\n",
      "(1586, 25, 3)\n",
      "(1518, 25, 3)\n",
      "(1495, 25, 3)\n",
      "(1631, 25, 3)\n",
      "(1280, 25, 3)\n",
      "(1894, 25, 3)\n",
      "(2028, 25, 3)\n",
      "(1876, 25, 3)\n",
      "(2096, 25, 3)\n",
      "(3228, 25, 3)\n",
      "(3249, 25, 3)\n",
      "(1949, 25, 3)\n",
      "(1341, 25, 3)\n",
      "(1119, 25, 3)\n",
      "(1249, 25, 3)\n",
      "(1725, 25, 3)\n",
      "(1224, 25, 3)\n",
      "(1079, 25, 3)\n",
      "(1262, 25, 3)\n",
      "(1567, 25, 3)\n",
      "(1520, 25, 3)\n",
      "(1682, 25, 3)\n",
      "(1937, 25, 3)\n",
      "(1790, 25, 3)\n",
      "(1707, 25, 3)\n",
      "(3093, 25, 3)\n",
      "(3402, 25, 3)\n",
      "(3898, 25, 3)\n",
      "(1087, 25, 3)\n",
      "(1077, 25, 3)\n",
      "(1008, 25, 3)\n",
      "(1493, 25, 3)\n",
      "(1568, 25, 3)\n",
      "(1466, 25, 3)\n",
      "(2177, 25, 3)\n",
      "(1989, 25, 3)\n",
      "(1153, 25, 3)\n",
      "(1234, 25, 3)\n"
     ]
    }
   ],
   "source": [
    "datalist_n = []\n",
    "\n",
    "for f in datalist:\n",
    "    for x in enumerate(f):\n",
    "        f[x[0]] = (f[x[0]]-1)/2.5\n",
    "    print(f.shape)\n",
    "    datalist_n.append(f)\n",
    "    "
   ]
  },
  {
   "cell_type": "code",
   "execution_count": 14,
   "metadata": {},
   "outputs": [
    {
     "name": "stdout",
     "output_type": "stream",
     "text": [
      "35.30989272943981\n"
     ]
    }
   ],
   "source": [
    "labnum = 0\n",
    "labtot = 0\n",
    "for i in labset:\n",
    "    for x in i:\n",
    "        if type(x) != int:\n",
    "            dif = x[1]-x[0]\n",
    "            labtot = labtot + dif\n",
    "            labnum = labnum+1\n",
    "    \n",
    "labmoy = labtot/labnum\n",
    "\n",
    "print(labmoy)"
   ]
  },
  {
   "cell_type": "code",
   "execution_count": 15,
   "metadata": {},
   "outputs": [],
   "source": [
    "trdat = datalist_n[0:56]\n",
    "tedat = datalist_n[56:58]\n",
    "valdat = datalist_n[58]\n",
    "\n",
    "trlab = labels[0:56]\n",
    "telab = labels[56:58]\n",
    "vallab = labels[58]"
   ]
  },
  {
   "cell_type": "code",
   "execution_count": 16,
   "metadata": {},
   "outputs": [
    {
     "name": "stdout",
     "output_type": "stream",
     "text": [
      "56\n",
      "2\n"
     ]
    }
   ],
   "source": [
    "print(len(trdat))\n",
    "print(len(tedat))"
   ]
  },
  {
   "cell_type": "code",
   "execution_count": 17,
   "metadata": {
    "scrolled": true
   },
   "outputs": [
    {
     "name": "stdout",
     "output_type": "stream",
     "text": [
      "1835\n",
      "1221\n",
      "1271\n",
      "1283\n",
      "1280\n",
      "3105\n",
      "3239\n",
      "1436\n",
      "1192\n",
      "1319\n",
      "2558\n",
      "2542\n",
      "3029\n",
      "2044\n",
      "1150\n",
      "994\n",
      "1098\n",
      "2006\n",
      "1005\n",
      "1035\n",
      "1013\n",
      "1586\n",
      "1518\n",
      "1495\n",
      "1631\n",
      "1280\n",
      "1894\n",
      "2028\n",
      "1876\n",
      "2096\n",
      "3228\n",
      "3249\n",
      "1949\n",
      "1341\n",
      "1119\n",
      "1249\n",
      "1725\n",
      "1224\n",
      "1079\n",
      "1262\n",
      "1567\n",
      "1520\n",
      "1682\n",
      "1937\n",
      "1790\n",
      "1707\n",
      "3093\n",
      "3402\n",
      "3898\n",
      "1087\n",
      "1077\n",
      "1008\n",
      "1493\n",
      "1568\n",
      "1466\n",
      "2177\n"
     ]
    }
   ],
   "source": [
    "sl_win_data = []\n",
    "sl_win_labels = []\n",
    "i = 0\n",
    "for a in trdat:\n",
    "    print(a.shape[0])\n",
    "    for x in range(0,a.shape[0]-40):\n",
    "        sl_win_data.append(a[x:x+40])\n",
    "        sl_win_labels.append(trlab[i][x+20])\n",
    "    i = i+1"
   ]
  },
  {
   "cell_type": "code",
   "execution_count": 18,
   "metadata": {},
   "outputs": [
    {
     "name": "stdout",
     "output_type": "stream",
     "text": [
      "1989\n",
      "1153\n"
     ]
    }
   ],
   "source": [
    "sl_win_tedat = []\n",
    "sl_win_telab = []\n",
    "\n",
    "i = 0\n",
    "for a in tedat:\n",
    "    print(a.shape[0])\n",
    "    for x in range(0,a.shape[0]-40):\n",
    "        sl_win_tedat.append(a[x:x+40])\n",
    "        sl_win_telab.append(telab[i][x+20])\n",
    "    i = i+1"
   ]
  },
  {
   "cell_type": "code",
   "execution_count": 19,
   "metadata": {},
   "outputs": [
    {
     "name": "stdout",
     "output_type": "stream",
     "text": [
      "1234\n"
     ]
    }
   ],
   "source": [
    "sl_win_valdat = []\n",
    "sl_win_vallab = []\n",
    "\n",
    "a = valdat\n",
    "print(a.shape[0])\n",
    "for x in range(0,a.shape[0]-40):\n",
    "    sl_win_valdat.append(a[x:x+40])\n",
    "    sl_win_vallab.append(vallab[x+20])"
   ]
  },
  {
   "cell_type": "code",
   "execution_count": 20,
   "metadata": {},
   "outputs": [
    {
     "name": "stdout",
     "output_type": "stream",
     "text": [
      "96716\n",
      "96716\n",
      "(40, 25, 3)\n",
      "3062\n",
      "3062\n",
      "(40, 25, 3)\n",
      "1194\n",
      "1194\n",
      "(40, 25, 3)\n"
     ]
    }
   ],
   "source": [
    "print(len(sl_win_data))\n",
    "print(len(sl_win_labels))\n",
    "print(sl_win_data[1].shape)\n",
    "print(len(sl_win_tedat))\n",
    "print(len(sl_win_telab))\n",
    "print(sl_win_tedat[1].shape)\n",
    "print(len(sl_win_valdat))\n",
    "print(len(sl_win_vallab))\n",
    "print(sl_win_valdat[1].shape)"
   ]
  },
  {
   "cell_type": "code",
   "execution_count": 21,
   "metadata": {},
   "outputs": [
    {
     "name": "stdout",
     "output_type": "stream",
     "text": [
      "(96716, 40, 25, 3)\n",
      "(96716,)\n",
      "(3062, 40, 25, 3)\n",
      "(3062,)\n",
      "(1194, 40, 25, 3)\n",
      "(1194,)\n"
     ]
    }
   ],
   "source": [
    "datapy = np.stack(sl_win_data)\n",
    "labpy = np.stack(sl_win_labels)\n",
    "print(datapy.shape)\n",
    "print(labpy.shape)\n",
    "tedatapy = np.stack(sl_win_tedat)\n",
    "telabpy = np.stack(sl_win_telab)\n",
    "print(tedatapy.shape)\n",
    "print(telabpy.shape)\n",
    "valdatapy = np.stack(sl_win_valdat)\n",
    "vallabpy = np.stack(sl_win_vallab)\n",
    "print(valdatapy.shape)\n",
    "print(vallabpy.shape)"
   ]
  },
  {
   "cell_type": "code",
   "execution_count": 22,
   "metadata": {},
   "outputs": [
    {
     "name": "stdout",
     "output_type": "stream",
     "text": [
      "(96716, 3, 25, 40)\n",
      "(3062, 3, 25, 40)\n",
      "(1194, 3, 25, 40)\n"
     ]
    }
   ],
   "source": [
    "datap = np.swapaxes(datapy,1,3)\n",
    "print(datap.shape)\n",
    "tedatap = np.swapaxes(tedatapy,1,3)\n",
    "print(tedatap.shape)\n",
    "valdatap = np.swapaxes(valdatapy,1,3)\n",
    "print(valdatap.shape)"
   ]
  },
  {
   "cell_type": "code",
   "execution_count": 23,
   "metadata": {},
   "outputs": [
    {
     "name": "stdout",
     "output_type": "stream",
     "text": [
      "(96716, 3, 40, 25)\n",
      "(3062, 3, 40, 25)\n",
      "(1194, 3, 40, 25)\n"
     ]
    }
   ],
   "source": [
    "datap = np.swapaxes(datap,2,3)\n",
    "print(datap.shape)\n",
    "tedatap = np.swapaxes(tedatap,2,3)\n",
    "print(tedatap.shape)\n",
    "valdatap = np.swapaxes(valdatap,2,3)\n",
    "print(valdatap.shape)"
   ]
  },
  {
   "cell_type": "code",
   "execution_count": 24,
   "metadata": {},
   "outputs": [
    {
     "name": "stdout",
     "output_type": "stream",
     "text": [
      "(96716, 3, 40, 25, 1)\n",
      "(3062, 3, 40, 25, 1)\n",
      "(1194, 3, 40, 25, 1)\n"
     ]
    }
   ],
   "source": [
    "dataset = np.expand_dims(datap,4)\n",
    "print(dataset.shape)\n",
    "tedataset = np.expand_dims(tedatap,4)\n",
    "print(tedataset.shape)\n",
    "valdataset = np.expand_dims(valdatap,4)\n",
    "print(valdataset.shape)"
   ]
  },
  {
   "cell_type": "code",
   "execution_count": 25,
   "metadata": {},
   "outputs": [],
   "source": [
    "tdataset =  torch.from_numpy(np.array(dataset,dtype='float32'))\n",
    "Labels_set = torch.from_numpy(np.array(labpy,dtype='int64'))\n",
    "tedataset =  torch.from_numpy(np.array(tedataset,dtype='float32'))\n",
    "teLabels_set = torch.from_numpy(np.array(telabpy,dtype='int64'))\n",
    "valdataset =  torch.from_numpy(np.array(valdataset,dtype='float32'))\n",
    "valLabels_set = torch.from_numpy(np.array(vallabpy,dtype='int64'))"
   ]
  },
  {
   "cell_type": "code",
   "execution_count": 26,
   "metadata": {},
   "outputs": [
    {
     "name": "stdout",
     "output_type": "stream",
     "text": [
      "torch.Size([96716, 3, 40, 25, 1])\n",
      "torch.Size([96716])\n",
      "torch.Size([3062, 3, 40, 25, 1])\n",
      "torch.Size([3062])\n",
      "torch.Size([1194, 3, 40, 25, 1])\n",
      "torch.Size([1194])\n"
     ]
    }
   ],
   "source": [
    "print(tdataset.shape)\n",
    "print(Labels_set.shape)\n",
    "print(tedataset.shape)\n",
    "print(teLabels_set.shape)\n",
    "print(valdataset.shape)\n",
    "print(valLabels_set.shape)"
   ]
  },
  {
   "cell_type": "code",
   "execution_count": 27,
   "metadata": {},
   "outputs": [],
   "source": [
    "train = data_utils.TensorDataset(tdataset, Labels_set)\n",
    "test = data_utils.TensorDataset(tedataset, teLabels_set)\n",
    "val = data_utils.TensorDataset(valdataset, valLabels_set)"
   ]
  },
  {
   "cell_type": "code",
   "execution_count": 28,
   "metadata": {},
   "outputs": [
    {
     "name": "stdout",
     "output_type": "stream",
     "text": [
      "96716\n",
      "3062\n",
      "1194\n"
     ]
    }
   ],
   "source": [
    "print(len(train))\n",
    "print(len(test))\n",
    "print(len(val))"
   ]
  },
  {
   "cell_type": "code",
   "execution_count": 29,
   "metadata": {},
   "outputs": [],
   "source": [
    "torch.save(train, 'oadtrain.pt')\n",
    "torch.save(test, 'oadtest.pt')\n",
    "torch.save(val, 'oadval.pt')"
   ]
  },
  {
   "cell_type": "code",
   "execution_count": null,
   "metadata": {},
   "outputs": [],
   "source": []
  }
 ],
 "metadata": {
  "kernelspec": {
   "display_name": "PyTorchGPU",
   "language": "python",
   "name": "py-gpu"
  },
  "language_info": {
   "codemirror_mode": {
    "name": "ipython",
    "version": 3
   },
   "file_extension": ".py",
   "mimetype": "text/x-python",
   "name": "python",
   "nbconvert_exporter": "python",
   "pygments_lexer": "ipython3",
   "version": "3.6.10"
  }
 },
 "nbformat": 4,
 "nbformat_minor": 4
}
